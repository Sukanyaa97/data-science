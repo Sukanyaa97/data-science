{
  "nbformat": 4,
  "nbformat_minor": 0,
  "metadata": {
    "colab": {
      "provenance": []
    },
    "kernelspec": {
      "name": "python3",
      "display_name": "Python 3"
    },
    "language_info": {
      "name": "python"
    }
  },
  "cells": [
    {
      "cell_type": "markdown",
      "source": [
        "##**Assignment1**"
      ],
      "metadata": {
        "id": "fTcbhOuB0eqX"
      }
    },
    {
      "cell_type": "code",
      "execution_count": null,
      "metadata": {
        "id": "nAPNC1QT0c_e",
        "colab": {
          "base_uri": "https://localhost:8080/"
        },
        "outputId": "da29e9f2-e36d-4d3c-d1ad-7916a199c457"
      },
      "outputs": [
        {
          "output_type": "stream",
          "name": "stdout",
          "text": [
            "Mounted at /content/drive/\n"
          ]
        }
      ],
      "source": [
        "from google.colab import drive\n",
        "drive.mount('/content/drive/')"
      ]
    },
    {
      "cell_type": "code",
      "source": [
        "import pandas as pd\n",
        "Mall_Customers = pd.read_csv('/content/drive/My Drive/Data_science/Pandas/Mall_Customers_Dirty.csv')"
      ],
      "metadata": {
        "id": "V4AMKbYG2HVm"
      },
      "execution_count": null,
      "outputs": []
    },
    {
      "cell_type": "code",
      "source": [
        "Mall_Customers"
      ],
      "metadata": {
        "colab": {
          "base_uri": "https://localhost:8080/",
          "height": 424
        },
        "id": "sRNSF1kq4aKT",
        "outputId": "4f6bf2b5-ff47-4ca2-86a2-a5c63041a925"
      },
      "execution_count": null,
      "outputs": [
        {
          "output_type": "execute_result",
          "data": {
            "text/plain": [
              "     CustomerID  Gender    Age  Annual Income (k$)  Spending Score (1-100)\n",
              "0             1    Male   19.0                  15                      39\n",
              "1             2    Male   21.0                  15                      81\n",
              "2             3  Female   20.0                  16                       6\n",
              "3             4       F   23.0                  16                      77\n",
              "4             5  Female   31.0                  17                      40\n",
              "..          ...     ...    ...                 ...                     ...\n",
              "195         196  Female   35.0                 120                      79\n",
              "196         197  Female   45.0                 126                      28\n",
              "197         198    Male   32.0                 126                      74\n",
              "198         199    Male   32.0                 137                      18\n",
              "199         200    Male  250.0                1370                      83\n",
              "\n",
              "[200 rows x 5 columns]"
            ],
            "text/html": [
              "\n",
              "  <div id=\"df-cdcd7205-d176-4678-835a-81e74fe36ada\" class=\"colab-df-container\">\n",
              "    <div>\n",
              "<style scoped>\n",
              "    .dataframe tbody tr th:only-of-type {\n",
              "        vertical-align: middle;\n",
              "    }\n",
              "\n",
              "    .dataframe tbody tr th {\n",
              "        vertical-align: top;\n",
              "    }\n",
              "\n",
              "    .dataframe thead th {\n",
              "        text-align: right;\n",
              "    }\n",
              "</style>\n",
              "<table border=\"1\" class=\"dataframe\">\n",
              "  <thead>\n",
              "    <tr style=\"text-align: right;\">\n",
              "      <th></th>\n",
              "      <th>CustomerID</th>\n",
              "      <th>Gender</th>\n",
              "      <th>Age</th>\n",
              "      <th>Annual Income (k$)</th>\n",
              "      <th>Spending Score (1-100)</th>\n",
              "    </tr>\n",
              "  </thead>\n",
              "  <tbody>\n",
              "    <tr>\n",
              "      <th>0</th>\n",
              "      <td>1</td>\n",
              "      <td>Male</td>\n",
              "      <td>19.0</td>\n",
              "      <td>15</td>\n",
              "      <td>39</td>\n",
              "    </tr>\n",
              "    <tr>\n",
              "      <th>1</th>\n",
              "      <td>2</td>\n",
              "      <td>Male</td>\n",
              "      <td>21.0</td>\n",
              "      <td>15</td>\n",
              "      <td>81</td>\n",
              "    </tr>\n",
              "    <tr>\n",
              "      <th>2</th>\n",
              "      <td>3</td>\n",
              "      <td>Female</td>\n",
              "      <td>20.0</td>\n",
              "      <td>16</td>\n",
              "      <td>6</td>\n",
              "    </tr>\n",
              "    <tr>\n",
              "      <th>3</th>\n",
              "      <td>4</td>\n",
              "      <td>F</td>\n",
              "      <td>23.0</td>\n",
              "      <td>16</td>\n",
              "      <td>77</td>\n",
              "    </tr>\n",
              "    <tr>\n",
              "      <th>4</th>\n",
              "      <td>5</td>\n",
              "      <td>Female</td>\n",
              "      <td>31.0</td>\n",
              "      <td>17</td>\n",
              "      <td>40</td>\n",
              "    </tr>\n",
              "    <tr>\n",
              "      <th>...</th>\n",
              "      <td>...</td>\n",
              "      <td>...</td>\n",
              "      <td>...</td>\n",
              "      <td>...</td>\n",
              "      <td>...</td>\n",
              "    </tr>\n",
              "    <tr>\n",
              "      <th>195</th>\n",
              "      <td>196</td>\n",
              "      <td>Female</td>\n",
              "      <td>35.0</td>\n",
              "      <td>120</td>\n",
              "      <td>79</td>\n",
              "    </tr>\n",
              "    <tr>\n",
              "      <th>196</th>\n",
              "      <td>197</td>\n",
              "      <td>Female</td>\n",
              "      <td>45.0</td>\n",
              "      <td>126</td>\n",
              "      <td>28</td>\n",
              "    </tr>\n",
              "    <tr>\n",
              "      <th>197</th>\n",
              "      <td>198</td>\n",
              "      <td>Male</td>\n",
              "      <td>32.0</td>\n",
              "      <td>126</td>\n",
              "      <td>74</td>\n",
              "    </tr>\n",
              "    <tr>\n",
              "      <th>198</th>\n",
              "      <td>199</td>\n",
              "      <td>Male</td>\n",
              "      <td>32.0</td>\n",
              "      <td>137</td>\n",
              "      <td>18</td>\n",
              "    </tr>\n",
              "    <tr>\n",
              "      <th>199</th>\n",
              "      <td>200</td>\n",
              "      <td>Male</td>\n",
              "      <td>250.0</td>\n",
              "      <td>1370</td>\n",
              "      <td>83</td>\n",
              "    </tr>\n",
              "  </tbody>\n",
              "</table>\n",
              "<p>200 rows × 5 columns</p>\n",
              "</div>\n",
              "    <div class=\"colab-df-buttons\">\n",
              "\n",
              "  <div class=\"colab-df-container\">\n",
              "    <button class=\"colab-df-convert\" onclick=\"convertToInteractive('df-cdcd7205-d176-4678-835a-81e74fe36ada')\"\n",
              "            title=\"Convert this dataframe to an interactive table.\"\n",
              "            style=\"display:none;\">\n",
              "\n",
              "  <svg xmlns=\"http://www.w3.org/2000/svg\" height=\"24px\" viewBox=\"0 -960 960 960\">\n",
              "    <path d=\"M120-120v-720h720v720H120Zm60-500h600v-160H180v160Zm220 220h160v-160H400v160Zm0 220h160v-160H400v160ZM180-400h160v-160H180v160Zm440 0h160v-160H620v160ZM180-180h160v-160H180v160Zm440 0h160v-160H620v160Z\"/>\n",
              "  </svg>\n",
              "    </button>\n",
              "\n",
              "  <style>\n",
              "    .colab-df-container {\n",
              "      display:flex;\n",
              "      gap: 12px;\n",
              "    }\n",
              "\n",
              "    .colab-df-convert {\n",
              "      background-color: #E8F0FE;\n",
              "      border: none;\n",
              "      border-radius: 50%;\n",
              "      cursor: pointer;\n",
              "      display: none;\n",
              "      fill: #1967D2;\n",
              "      height: 32px;\n",
              "      padding: 0 0 0 0;\n",
              "      width: 32px;\n",
              "    }\n",
              "\n",
              "    .colab-df-convert:hover {\n",
              "      background-color: #E2EBFA;\n",
              "      box-shadow: 0px 1px 2px rgba(60, 64, 67, 0.3), 0px 1px 3px 1px rgba(60, 64, 67, 0.15);\n",
              "      fill: #174EA6;\n",
              "    }\n",
              "\n",
              "    .colab-df-buttons div {\n",
              "      margin-bottom: 4px;\n",
              "    }\n",
              "\n",
              "    [theme=dark] .colab-df-convert {\n",
              "      background-color: #3B4455;\n",
              "      fill: #D2E3FC;\n",
              "    }\n",
              "\n",
              "    [theme=dark] .colab-df-convert:hover {\n",
              "      background-color: #434B5C;\n",
              "      box-shadow: 0px 1px 3px 1px rgba(0, 0, 0, 0.15);\n",
              "      filter: drop-shadow(0px 1px 2px rgba(0, 0, 0, 0.3));\n",
              "      fill: #FFFFFF;\n",
              "    }\n",
              "  </style>\n",
              "\n",
              "    <script>\n",
              "      const buttonEl =\n",
              "        document.querySelector('#df-cdcd7205-d176-4678-835a-81e74fe36ada button.colab-df-convert');\n",
              "      buttonEl.style.display =\n",
              "        google.colab.kernel.accessAllowed ? 'block' : 'none';\n",
              "\n",
              "      async function convertToInteractive(key) {\n",
              "        const element = document.querySelector('#df-cdcd7205-d176-4678-835a-81e74fe36ada');\n",
              "        const dataTable =\n",
              "          await google.colab.kernel.invokeFunction('convertToInteractive',\n",
              "                                                    [key], {});\n",
              "        if (!dataTable) return;\n",
              "\n",
              "        const docLinkHtml = 'Like what you see? Visit the ' +\n",
              "          '<a target=\"_blank\" href=https://colab.research.google.com/notebooks/data_table.ipynb>data table notebook</a>'\n",
              "          + ' to learn more about interactive tables.';\n",
              "        element.innerHTML = '';\n",
              "        dataTable['output_type'] = 'display_data';\n",
              "        await google.colab.output.renderOutput(dataTable, element);\n",
              "        const docLink = document.createElement('div');\n",
              "        docLink.innerHTML = docLinkHtml;\n",
              "        element.appendChild(docLink);\n",
              "      }\n",
              "    </script>\n",
              "  </div>\n",
              "\n",
              "\n",
              "<div id=\"df-456adecd-d316-400a-9705-44cbfa5b5cc3\">\n",
              "  <button class=\"colab-df-quickchart\" onclick=\"quickchart('df-456adecd-d316-400a-9705-44cbfa5b5cc3')\"\n",
              "            title=\"Suggest charts\"\n",
              "            style=\"display:none;\">\n",
              "\n",
              "<svg xmlns=\"http://www.w3.org/2000/svg\" height=\"24px\"viewBox=\"0 0 24 24\"\n",
              "     width=\"24px\">\n",
              "    <g>\n",
              "        <path d=\"M19 3H5c-1.1 0-2 .9-2 2v14c0 1.1.9 2 2 2h14c1.1 0 2-.9 2-2V5c0-1.1-.9-2-2-2zM9 17H7v-7h2v7zm4 0h-2V7h2v10zm4 0h-2v-4h2v4z\"/>\n",
              "    </g>\n",
              "</svg>\n",
              "  </button>\n",
              "\n",
              "<style>\n",
              "  .colab-df-quickchart {\n",
              "      --bg-color: #E8F0FE;\n",
              "      --fill-color: #1967D2;\n",
              "      --hover-bg-color: #E2EBFA;\n",
              "      --hover-fill-color: #174EA6;\n",
              "      --disabled-fill-color: #AAA;\n",
              "      --disabled-bg-color: #DDD;\n",
              "  }\n",
              "\n",
              "  [theme=dark] .colab-df-quickchart {\n",
              "      --bg-color: #3B4455;\n",
              "      --fill-color: #D2E3FC;\n",
              "      --hover-bg-color: #434B5C;\n",
              "      --hover-fill-color: #FFFFFF;\n",
              "      --disabled-bg-color: #3B4455;\n",
              "      --disabled-fill-color: #666;\n",
              "  }\n",
              "\n",
              "  .colab-df-quickchart {\n",
              "    background-color: var(--bg-color);\n",
              "    border: none;\n",
              "    border-radius: 50%;\n",
              "    cursor: pointer;\n",
              "    display: none;\n",
              "    fill: var(--fill-color);\n",
              "    height: 32px;\n",
              "    padding: 0;\n",
              "    width: 32px;\n",
              "  }\n",
              "\n",
              "  .colab-df-quickchart:hover {\n",
              "    background-color: var(--hover-bg-color);\n",
              "    box-shadow: 0 1px 2px rgba(60, 64, 67, 0.3), 0 1px 3px 1px rgba(60, 64, 67, 0.15);\n",
              "    fill: var(--button-hover-fill-color);\n",
              "  }\n",
              "\n",
              "  .colab-df-quickchart-complete:disabled,\n",
              "  .colab-df-quickchart-complete:disabled:hover {\n",
              "    background-color: var(--disabled-bg-color);\n",
              "    fill: var(--disabled-fill-color);\n",
              "    box-shadow: none;\n",
              "  }\n",
              "\n",
              "  .colab-df-spinner {\n",
              "    border: 2px solid var(--fill-color);\n",
              "    border-color: transparent;\n",
              "    border-bottom-color: var(--fill-color);\n",
              "    animation:\n",
              "      spin 1s steps(1) infinite;\n",
              "  }\n",
              "\n",
              "  @keyframes spin {\n",
              "    0% {\n",
              "      border-color: transparent;\n",
              "      border-bottom-color: var(--fill-color);\n",
              "      border-left-color: var(--fill-color);\n",
              "    }\n",
              "    20% {\n",
              "      border-color: transparent;\n",
              "      border-left-color: var(--fill-color);\n",
              "      border-top-color: var(--fill-color);\n",
              "    }\n",
              "    30% {\n",
              "      border-color: transparent;\n",
              "      border-left-color: var(--fill-color);\n",
              "      border-top-color: var(--fill-color);\n",
              "      border-right-color: var(--fill-color);\n",
              "    }\n",
              "    40% {\n",
              "      border-color: transparent;\n",
              "      border-right-color: var(--fill-color);\n",
              "      border-top-color: var(--fill-color);\n",
              "    }\n",
              "    60% {\n",
              "      border-color: transparent;\n",
              "      border-right-color: var(--fill-color);\n",
              "    }\n",
              "    80% {\n",
              "      border-color: transparent;\n",
              "      border-right-color: var(--fill-color);\n",
              "      border-bottom-color: var(--fill-color);\n",
              "    }\n",
              "    90% {\n",
              "      border-color: transparent;\n",
              "      border-bottom-color: var(--fill-color);\n",
              "    }\n",
              "  }\n",
              "</style>\n",
              "\n",
              "  <script>\n",
              "    async function quickchart(key) {\n",
              "      const quickchartButtonEl =\n",
              "        document.querySelector('#' + key + ' button');\n",
              "      quickchartButtonEl.disabled = true;  // To prevent multiple clicks.\n",
              "      quickchartButtonEl.classList.add('colab-df-spinner');\n",
              "      try {\n",
              "        const charts = await google.colab.kernel.invokeFunction(\n",
              "            'suggestCharts', [key], {});\n",
              "      } catch (error) {\n",
              "        console.error('Error during call to suggestCharts:', error);\n",
              "      }\n",
              "      quickchartButtonEl.classList.remove('colab-df-spinner');\n",
              "      quickchartButtonEl.classList.add('colab-df-quickchart-complete');\n",
              "    }\n",
              "    (() => {\n",
              "      let quickchartButtonEl =\n",
              "        document.querySelector('#df-456adecd-d316-400a-9705-44cbfa5b5cc3 button');\n",
              "      quickchartButtonEl.style.display =\n",
              "        google.colab.kernel.accessAllowed ? 'block' : 'none';\n",
              "    })();\n",
              "  </script>\n",
              "</div>\n",
              "    </div>\n",
              "  </div>\n"
            ]
          },
          "metadata": {},
          "execution_count": 3
        }
      ]
    },
    {
      "cell_type": "code",
      "source": [
        "#1.แก้ไข Missing Values ของทุก column"
      ],
      "metadata": {
        "id": "dMXVWcSC4uCK"
      },
      "execution_count": null,
      "outputs": []
    },
    {
      "cell_type": "code",
      "source": [
        "df = pd.DataFrame(Mall_Customers)"
      ],
      "metadata": {
        "id": "-m2pFAz351Ix"
      },
      "execution_count": null,
      "outputs": []
    },
    {
      "cell_type": "code",
      "source": [
        "# แสดงรายชื่อคอลัมน์ทั้งหมด\n",
        "print(df.columns)"
      ],
      "metadata": {
        "colab": {
          "base_uri": "https://localhost:8080/"
        },
        "id": "zeTr5F7E6Wr-",
        "outputId": "64ffd5e4-44a0-40cd-cb4e-dd7b78a12e98"
      },
      "execution_count": null,
      "outputs": [
        {
          "output_type": "stream",
          "name": "stdout",
          "text": [
            "Index(['CustomerID', 'Gender', 'Age', 'Annual Income (k$)',\n",
            "       'Spending Score (1-100)'],\n",
            "      dtype='object')\n"
          ]
        }
      ]
    },
    {
      "cell_type": "code",
      "source": [
        "# เติมค่าที่หายไปด้วยค่าเฉลี่ย (mean)\n",
        "df['Age'].fillna(df['Age'].mean(), inplace=True)\n",
        "df['Annual Income (k$)'].fillna(df['Annual Income (k$)'].mean(), inplace=True)\n",
        "df['Spending Score (1-100)'].fillna(df['Spending Score (1-100)'].mean(), inplace=True)\n",
        "\n",
        "# นับความถี่ของแต่ละค่าใน 'Gender'\n",
        "gender_mode = df['Gender'].value_counts().idxmax()\n",
        "# เติมค่าที่หายด้วยค่า mode ที่ถูกต้อง\n",
        "df['Gender'].fillna(gender_mode, inplace=True)\n",
        "# แก้ไขค่า 'F' เป็น 'Female' และ 'M' เป็น 'Male'\n",
        "df['Gender'] = df['Gender'].replace({'F': 'Female', 'M': 'Male'})"
      ],
      "metadata": {
        "id": "ZjtgO-Su6F_8"
      },
      "execution_count": null,
      "outputs": []
    },
    {
      "cell_type": "code",
      "source": [
        "print(df)"
      ],
      "metadata": {
        "colab": {
          "base_uri": "https://localhost:8080/"
        },
        "id": "RCx9GVZNnWNx",
        "outputId": "77f2871b-6360-473b-b978-9969c442e132"
      },
      "execution_count": null,
      "outputs": [
        {
          "output_type": "stream",
          "name": "stdout",
          "text": [
            "     CustomerID  Gender    Age  Annual Income (k$)  Spending Score (1-100)\n",
            "0             1    Male   19.0                  15                      39\n",
            "1             2    Male   21.0                  15                      81\n",
            "2             3  Female   20.0                  16                       6\n",
            "3             4  Female   23.0                  16                      77\n",
            "4             5  Female   31.0                  17                      40\n",
            "..          ...     ...    ...                 ...                     ...\n",
            "195         196  Female   35.0                 120                      79\n",
            "196         197  Female   45.0                 126                      28\n",
            "197         198    Male   32.0                 126                      74\n",
            "198         199    Male   32.0                 137                      18\n",
            "199         200    Male  250.0                1370                      83\n",
            "\n",
            "[200 rows x 5 columns]\n"
          ]
        }
      ]
    },
    {
      "cell_type": "code",
      "source": [
        "#2.แก้ไข Outlier ของทุก column"
      ],
      "metadata": {
        "id": "XrSXCWB7nozf"
      },
      "execution_count": null,
      "outputs": []
    },
    {
      "cell_type": "code",
      "source": [
        "from scipy import stats\n",
        "import numpy as np\n",
        "from scipy.stats.mstats import winsorize\n",
        "import pandas as pd"
      ],
      "metadata": {
        "id": "Sf5PUcC-oO05"
      },
      "execution_count": null,
      "outputs": []
    },
    {
      "cell_type": "code",
      "source": [
        "# แสดงข้อมูลสรุปของทุก column โดยใช้ describe()\n",
        "print(\"Data Summary Before Handling Outliers:\")\n",
        "print(df.describe())"
      ],
      "metadata": {
        "colab": {
          "base_uri": "https://localhost:8080/"
        },
        "id": "MrUr-iNtu0YD",
        "outputId": "df0e287c-cf36-4703-89ab-0764a3618a9b"
      },
      "execution_count": null,
      "outputs": [
        {
          "output_type": "stream",
          "name": "stdout",
          "text": [
            "Data Summary Before Handling Outliers:\n",
            "       CustomerID         Age  Annual Income (k$)  Spending Score (1-100)\n",
            "count  200.000000  200.000000          200.000000              200.000000\n",
            "mean   100.500000   41.321429           76.930000               50.200000\n",
            "std     57.879185   28.910080          118.997298               25.823522\n",
            "min      1.000000   18.000000          -19.000000                1.000000\n",
            "25%     50.750000   28.750000           42.750000               34.750000\n",
            "50%    100.500000   36.000000           62.000000               50.000000\n",
            "75%    150.250000   49.000000           78.000000               73.000000\n",
            "max    200.000000  330.000000         1370.000000               99.000000\n"
          ]
        }
      ]
    },
    {
      "cell_type": "code",
      "source": [
        "# ตรวจสอบและแก้ไข Outlier สำหรับทุก column\n",
        "for column in df.select_dtypes(include=['number']).columns:\n",
        "    # นำเสนอข้อมูลสรุปของคอลัมน์\n",
        "    print(f\"Summary for {column}:\")\n",
        "    print(df[column].describe())"
      ],
      "metadata": {
        "id": "N79t60PgoVX6",
        "colab": {
          "base_uri": "https://localhost:8080/"
        },
        "outputId": "8b684884-3d01-41c4-93c1-51605a028cb0"
      },
      "execution_count": null,
      "outputs": [
        {
          "output_type": "stream",
          "name": "stdout",
          "text": [
            "Summary for CustomerID:\n",
            "count    200.000000\n",
            "mean     100.500000\n",
            "std       57.879185\n",
            "min        1.000000\n",
            "25%       50.750000\n",
            "50%      100.500000\n",
            "75%      150.250000\n",
            "max      200.000000\n",
            "Name: CustomerID, dtype: float64\n",
            "Summary for Age:\n",
            "count    200.000000\n",
            "mean      41.321429\n",
            "std       28.910080\n",
            "min       18.000000\n",
            "25%       28.750000\n",
            "50%       36.000000\n",
            "75%       49.000000\n",
            "max      330.000000\n",
            "Name: Age, dtype: float64\n",
            "Summary for Annual Income (k$):\n",
            "count     200.000000\n",
            "mean       76.930000\n",
            "std       118.997298\n",
            "min       -19.000000\n",
            "25%        42.750000\n",
            "50%        62.000000\n",
            "75%        78.000000\n",
            "max      1370.000000\n",
            "Name: Annual Income (k$), dtype: float64\n",
            "Summary for Spending Score (1-100):\n",
            "count    200.000000\n",
            "mean      50.200000\n",
            "std       25.823522\n",
            "min        1.000000\n",
            "25%       34.750000\n",
            "50%       50.000000\n",
            "75%       73.000000\n",
            "max       99.000000\n",
            "Name: Spending Score (1-100), dtype: float64\n"
          ]
        }
      ]
    },
    {
      "cell_type": "code",
      "source": [
        "# ฟังก์ชันการแก้ไข Outlier ด้วย Z-Score\n",
        "def handle_outliers_z_score(df, column, threshold=3):\n",
        "    z_scores = stats.zscore(df[column])\n",
        "    outliers = (np.abs(z_scores) > threshold)\n",
        "    df[column] = np.where(outliers, df[column].median(), df[column])\n",
        "\n",
        "# ใช้ฟังก์ชัน handle_outliers_z_score สำหรับทุก column ที่เป็น numeric\n",
        "for column in df.select_dtypes(include=['number']).columns:\n",
        "    handle_outliers_z_score(df, column)\n",
        "\n",
        "# แสดง DataFrame หลังจากทำความสะอาด Outlier\n",
        "print(df)"
      ],
      "metadata": {
        "id": "gXHqv_o74WZM",
        "outputId": "7be84fa4-94e3-412e-c82c-be90c31a2a15",
        "colab": {
          "base_uri": "https://localhost:8080/"
        }
      },
      "execution_count": null,
      "outputs": [
        {
          "output_type": "stream",
          "name": "stdout",
          "text": [
            "     CustomerID  Gender   Age  Annual Income (k$)  Spending Score (1-100)\n",
            "0           1.0    Male  19.0                15.0                    39.0\n",
            "1           2.0    Male  21.0                15.0                    81.0\n",
            "2           3.0  Female  20.0                16.0                     6.0\n",
            "3           4.0  Female  23.0                16.0                    77.0\n",
            "4           5.0  Female  31.0                17.0                    40.0\n",
            "..          ...     ...   ...                 ...                     ...\n",
            "195       196.0  Female  35.0               120.0                    79.0\n",
            "196       197.0  Female  45.0               126.0                    28.0\n",
            "197       198.0    Male  32.0               126.0                    74.0\n",
            "198       199.0    Male  32.0               137.0                    18.0\n",
            "199       200.0    Male  36.0                62.0                    83.0\n",
            "\n",
            "[200 rows x 5 columns]\n"
          ]
        }
      ]
    },
    {
      "cell_type": "code",
      "source": [
        "#3.แก้ไขค่าของข้อมูลที่ไม่สอดคล้องกับของ Gender"
      ],
      "metadata": {
        "id": "QehyQvbborNr"
      },
      "execution_count": null,
      "outputs": []
    },
    {
      "cell_type": "code",
      "source": [
        "import pandas as pd\n",
        "import numpy as np"
      ],
      "metadata": {
        "id": "_Nhl-fCzy1jY"
      },
      "execution_count": null,
      "outputs": []
    },
    {
      "cell_type": "code",
      "source": [
        "# แสดงข้อมูลหลังจากการแก้ไขข้อมูลที่ไม่สอดคล้องกับเพศ\n",
        "print(\"DataFrame before fixing values not conforming to Gender:\")\n",
        "print(df)"
      ],
      "metadata": {
        "colab": {
          "base_uri": "https://localhost:8080/"
        },
        "id": "o2sIyDzYpNHU",
        "outputId": "ec9d9e8e-896b-41cc-90a1-0a22e3f05daa"
      },
      "execution_count": null,
      "outputs": [
        {
          "output_type": "stream",
          "name": "stdout",
          "text": [
            "DataFrame before fixing values not conforming to Gender:\n",
            "     CustomerID  Gender   Age  Annual Income (k$)  Spending Score (1-100)\n",
            "0           1.0    Male  19.0                15.0                    39.0\n",
            "1           2.0    Male  21.0                15.0                    81.0\n",
            "2           3.0  Female  20.0                16.0                     6.0\n",
            "3           4.0  Female  23.0                16.0                    77.0\n",
            "4           5.0  Female  31.0                17.0                    40.0\n",
            "..          ...     ...   ...                 ...                     ...\n",
            "195       196.0  Female  35.0               120.0                    79.0\n",
            "196       197.0  Female  45.0               126.0                    28.0\n",
            "197       198.0    Male  32.0               126.0                    74.0\n",
            "198       199.0    Male  32.0               137.0                    18.0\n",
            "199       200.0    Male  36.0                62.0                    83.0\n",
            "\n",
            "[200 rows x 5 columns]\n"
          ]
        }
      ]
    },
    {
      "cell_type": "code",
      "source": [
        "# ฟังก์ชันสำหรับแก้ไขค่าข้อมูลที่ไม่สอดคล้องกับเพศ\n",
        "def fix_gender_values(row):\n",
        "    if row['Gender'] == 'Male':\n",
        "        row['Age'] = min(row['Age'], np.percentile(df[df['Gender'] == 'Male']['Age'], 99))\n",
        "        row['Annual Income (k$)'] = min(row['Annual Income (k$)'], np.percentile(df[df['Gender'] == 'Male']['Annual Income (k$)'], 99))\n",
        "    elif row['Gender'] == 'Female':\n",
        "        row['Age'] = min(row['Age'], np.percentile(df[df['Gender'] == 'Female']['Age'], 99))\n",
        "        row['Annual Income (k$)'] = min(row['Annual Income (k$)'], np.percentile(df[df['Gender'] == 'Female']['Annual Income (k$)'], 99))\n",
        "    return row"
      ],
      "metadata": {
        "id": "nc2HABcIpUCU"
      },
      "execution_count": null,
      "outputs": []
    },
    {
      "cell_type": "code",
      "source": [
        "# ใช้ฟังก์ชัน fix_gender_values กับทุกแถว\n",
        "df = df.apply(fix_gender_values, axis=1)"
      ],
      "metadata": {
        "id": "7XLiLGkvpWfT"
      },
      "execution_count": null,
      "outputs": []
    },
    {
      "cell_type": "code",
      "source": [
        "# แสดงข้อมูลหลังจากการแก้ไขค่าข้อมูลที่ไม่สอดคล้องกับเพศ\n",
        "print(\"\\nDataFrame after fixing values not conforming to Gender:\")\n",
        "print(df)"
      ],
      "metadata": {
        "colab": {
          "base_uri": "https://localhost:8080/"
        },
        "id": "s86Zt-DOpY1t",
        "outputId": "a6de6979-1e18-45ab-d256-f03dfa500c5b"
      },
      "execution_count": null,
      "outputs": [
        {
          "output_type": "stream",
          "name": "stdout",
          "text": [
            "\n",
            "DataFrame after fixing values not conforming to Gender:\n",
            "     CustomerID  Gender   Age  Annual Income (k$)  Spending Score (1-100)\n",
            "0           1.0    Male  19.0                15.0                    39.0\n",
            "1           2.0    Male  21.0                15.0                    81.0\n",
            "2           3.0  Female  20.0                16.0                     6.0\n",
            "3           4.0  Female  23.0                16.0                    77.0\n",
            "4           5.0  Female  31.0                17.0                    40.0\n",
            "..          ...     ...   ...                 ...                     ...\n",
            "195       196.0  Female  35.0               120.0                    79.0\n",
            "196       197.0  Female  45.0               120.0                    28.0\n",
            "197       198.0    Male  32.0               126.0                    74.0\n",
            "198       199.0    Male  32.0               137.0                    18.0\n",
            "199       200.0    Male  36.0                62.0                    83.0\n",
            "\n",
            "[200 rows x 5 columns]\n"
          ]
        }
      ]
    },
    {
      "cell_type": "code",
      "source": [
        "#4.แปลงข้อมูลของ Age และ Annual Income ให้อยู่ในช่วงค่า 1 ถึง 100"
      ],
      "metadata": {
        "id": "ViNrRAy-phdT"
      },
      "execution_count": null,
      "outputs": []
    },
    {
      "cell_type": "code",
      "source": [
        "from sklearn.preprocessing import StandardScaler\n",
        "from sklearn.preprocessing import MinMaxScaler"
      ],
      "metadata": {
        "id": "miSvaP12pvOQ"
      },
      "execution_count": null,
      "outputs": []
    },
    {
      "cell_type": "code",
      "source": [
        "# แสดงข้อมูลหลังจากการแก้ไขข้อมูลที่ไม่สอดคล้องกับเพศ\n",
        "print(\"DataFrame before Min-Max Scaling:\")\n",
        "print(df)"
      ],
      "metadata": {
        "colab": {
          "base_uri": "https://localhost:8080/"
        },
        "id": "XkvCHq41zLyG",
        "outputId": "12bb04c8-29d7-4a2f-c843-fd8b73388db0"
      },
      "execution_count": null,
      "outputs": [
        {
          "output_type": "stream",
          "name": "stdout",
          "text": [
            "DataFrame before Min-Max Scaling:\n",
            "     CustomerID  Gender   Age  Annual Income (k$)  Spending Score (1-100)\n",
            "0           1.0    Male  19.0                15.0                    39.0\n",
            "1           2.0    Male  21.0                15.0                    81.0\n",
            "2           3.0  Female  20.0                16.0                     6.0\n",
            "3           4.0  Female  23.0                16.0                    77.0\n",
            "4           5.0  Female  31.0                17.0                    40.0\n",
            "..          ...     ...   ...                 ...                     ...\n",
            "195       196.0  Female  35.0               120.0                    79.0\n",
            "196       197.0  Female  45.0               120.0                    28.0\n",
            "197       198.0    Male  32.0               126.0                    74.0\n",
            "198       199.0    Male  32.0               137.0                    18.0\n",
            "199       200.0    Male  36.0                62.0                    83.0\n",
            "\n",
            "[200 rows x 5 columns]\n"
          ]
        }
      ]
    },
    {
      "cell_type": "code",
      "source": [
        "# Min-Max Scaling ข้อมูล 'Age' และ 'Annual Income'\n",
        "scaler = MinMaxScaler(feature_range=(1, 100))\n",
        "df[['Age', 'Annual Income (k$)']] = scaler.fit_transform(df[['Age', 'Annual Income (k$)']])"
      ],
      "metadata": {
        "id": "-_lh31uizUw7"
      },
      "execution_count": null,
      "outputs": []
    },
    {
      "cell_type": "code",
      "source": [
        "# แสดงข้อมูลหลัง Min-Max Scaling\n",
        "print(\"\\nDataFrame after Min-Max Scaling:\")\n",
        "print(df)"
      ],
      "metadata": {
        "colab": {
          "base_uri": "https://localhost:8080/"
        },
        "id": "EmKCURz8zXyy",
        "outputId": "f35e687a-3965-4e70-caae-49c18e7be299"
      },
      "execution_count": null,
      "outputs": [
        {
          "output_type": "stream",
          "name": "stdout",
          "text": [
            "\n",
            "DataFrame after Min-Max Scaling:\n",
            "     CustomerID  Gender        Age  Annual Income (k$)  Spending Score (1-100)\n",
            "0           1.0    Male   2.903846           16.060403                    39.0\n",
            "1           2.0    Male   6.711538           16.060403                    81.0\n",
            "2           3.0  Female   4.807692           16.503356                     6.0\n",
            "3           4.0  Female  10.519231           16.503356                    77.0\n",
            "4           5.0  Female  25.750000           16.946309                    40.0\n",
            "..          ...     ...        ...                 ...                     ...\n",
            "195       196.0  Female  33.365385           62.570470                    79.0\n",
            "196       197.0  Female  52.403846           62.570470                    28.0\n",
            "197       198.0    Male  27.653846           65.228188                    74.0\n",
            "198       199.0    Male  27.653846           70.100671                    18.0\n",
            "199       200.0    Male  35.269231           36.879195                    83.0\n",
            "\n",
            "[200 rows x 5 columns]\n"
          ]
        }
      ]
    },
    {
      "cell_type": "code",
      "source": [
        "#5.สร้าง column ใหม่โดยท่า Discretize ข้อมูล Annual Income ให้เป็น categorical data มีค่าเป็น มาก, ปานกลาง, น้อย"
      ],
      "metadata": {
        "id": "8-rfRhBhrtye"
      },
      "execution_count": null,
      "outputs": []
    },
    {
      "cell_type": "code",
      "source": [
        "import pandas as pd\n",
        "# ใช้ pd.qcut() ในการ Discretize ข้อมูล Annual_Income\n",
        "df['Income_Level'] = pd.qcut(df['Annual Income (k$)'], q=[0, 1/3, 2/3, 1], labels=['น้อย', 'ปานกลาง', 'มาก'])\n",
        "# แสดง DataFrame หลังจาก Discretize\n",
        "print(df[['Annual Income (k$)', 'Income_Level']])"
      ],
      "metadata": {
        "id": "rq1hhOqNsj6m",
        "colab": {
          "base_uri": "https://localhost:8080/"
        },
        "outputId": "218ca371-6d48-4a26-fdc9-118850ed78a4"
      },
      "execution_count": null,
      "outputs": [
        {
          "output_type": "stream",
          "name": "stdout",
          "text": [
            "     Annual Income (k$) Income_Level\n",
            "0             16.060403         น้อย\n",
            "1             16.060403         น้อย\n",
            "2             16.503356         น้อย\n",
            "3             16.503356         น้อย\n",
            "4             16.946309         น้อย\n",
            "..                  ...          ...\n",
            "195           62.570470          มาก\n",
            "196           62.570470          มาก\n",
            "197           65.228188          มาก\n",
            "198           70.100671          มาก\n",
            "199           36.879195      ปานกลาง\n",
            "\n",
            "[200 rows x 2 columns]\n"
          ]
        }
      ]
    },
    {
      "cell_type": "code",
      "source": [
        "#6.save ข้อมูลที่แก้ไขแล้วลงไฟล์ CSV"
      ],
      "metadata": {
        "id": "06h-QzljtoNW"
      },
      "execution_count": null,
      "outputs": []
    },
    {
      "cell_type": "code",
      "source": [
        "# บันทึก DataFrame ลงในไฟล์ CSV\n",
        "df.to_csv('modified_data.csv', index=False)\n",
        "\n",
        "# ตรวจสอบไฟล์ CSV ที่ถูกสร้าง\n",
        "print(\"File saved successfully.\")"
      ],
      "metadata": {
        "colab": {
          "base_uri": "https://localhost:8080/"
        },
        "id": "nz4nHhh0tm9F",
        "outputId": "05800bc4-6982-463d-d7b2-59fbbbd8acd2"
      },
      "execution_count": null,
      "outputs": [
        {
          "output_type": "stream",
          "name": "stdout",
          "text": [
            "File saved successfully.\n"
          ]
        }
      ]
    }
  ]
}